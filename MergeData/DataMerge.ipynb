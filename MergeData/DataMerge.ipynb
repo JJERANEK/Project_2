{
 "cells": [
  {
   "cell_type": "code",
   "execution_count": 1,
   "metadata": {},
   "outputs": [],
   "source": [
    "import json"
   ]
  },
  {
   "cell_type": "code",
   "execution_count": 19,
   "metadata": {},
   "outputs": [],
   "source": [
    "with open('../CleanedData/ticker_categories_cleaned.json', 'r') as json_file:\n",
    "    category_data = json.load(json_file)\n",
    "\n",
    "with open('../CleanedData/ticker_performance_cleaned.json', 'r') as json_file:\n",
    "    performance_data = json.load(json_file)"
   ]
  },
  {
   "cell_type": "code",
   "execution_count": 20,
   "metadata": {},
   "outputs": [
    {
     "name": "stdout",
     "output_type": "stream",
     "text": [
      "502\n",
      "502\n"
     ]
    }
   ],
   "source": [
    "print(len(category_data))\n",
    "print(len(performance_data))"
   ]
  },
  {
   "cell_type": "code",
   "execution_count": 21,
   "metadata": {},
   "outputs": [],
   "source": [
    "return_list = []\n",
    "temp_dict = {}\n",
    "for company in category_data:\n",
    "    ticker = company['Ticker']\n",
    "    for dataset in performance_data:\n",
    "        if dataset['Ticker'] == ticker:\n",
    "            temp_dict['Ticker'] = ticker\n",
    "            temp_dict['Company Name'] = company['Company Name']\n",
    "            temp_dict['Performance Data'] = dataset['Performance Data']\n",
    "            temp_dict['Categorical Data'] = company['Categorical Data']\n",
    "            return_list.append(temp_dict)\n",
    "            temp_dict = {}\n",
    "        else:\n",
    "            continue"
   ]
  },
  {
   "cell_type": "code",
   "execution_count": 24,
   "metadata": {},
   "outputs": [],
   "source": [
    "with open('../MergeData/merged.json', 'w') as new_file:\n",
    "    json.dump(return_list, new_file)"
   ]
  },
  {
   "cell_type": "code",
   "execution_count": null,
   "metadata": {},
   "outputs": [],
   "source": []
  }
 ],
 "metadata": {
  "kernelspec": {
   "display_name": "pythondata",
   "language": "python",
   "name": "python3"
  },
  "language_info": {
   "codemirror_mode": {
    "name": "ipython",
    "version": 3
   },
   "file_extension": ".py",
   "mimetype": "text/x-python",
   "name": "python",
   "nbconvert_exporter": "python",
   "pygments_lexer": "ipython3",
   "version": "3.6.10 |Anaconda, Inc.| (default, May  7 2020, 19:46:08) [MSC v.1916 64 bit (AMD64)]"
  },
  "orig_nbformat": 4,
  "vscode": {
   "interpreter": {
    "hash": "05442d59f91f3e4c0a2c479ce346a1bf3a77a52071e8e539a83b1fcf71a5ee7e"
   }
  }
 },
 "nbformat": 4,
 "nbformat_minor": 2
}
