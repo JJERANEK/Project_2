{
 "cells": [
  {
   "cell_type": "code",
   "execution_count": 1,
   "metadata": {},
   "outputs": [],
   "source": [
    "import requests\n",
    "from bs4 import BeautifulSoup\n",
    "\n",
    "# Make a request to the website\n",
    "url = \"https://stockanalysis.com/stocks/\"\n",
    "response = requests.get(url)\n"
   ]
  },
  {
   "cell_type": "code",
   "execution_count": 8,
   "metadata": {},
   "outputs": [],
   "source": [
    "# Parse the HTML of the page\n",
    "soup = BeautifulSoup(response.text, \"html.parser\")\n",
    "# print(soup)"
   ]
  },
  {
   "cell_type": "code",
   "execution_count": 33,
   "metadata": {},
   "outputs": [],
   "source": [
    "# Find the table element in the HTML\n",
    "bodies = soup.find('body')"
   ]
  },
  {
   "cell_type": "code",
   "execution_count": null,
   "metadata": {},
   "outputs": [],
   "source": [
    "# Loop through the rows of the table and print the data\n",
    "for row in table.find_all(\"tr\"):\n",
    "    cells = row.find_all(\"td\")\n",
    "    if cells:\n",
    "        print(cells[0].text, cells[1].text, cells[2].text)"
   ]
  },
  {
   "cell_type": "code",
   "execution_count": 34,
   "metadata": {},
   "outputs": [
    {
     "data": {
      "text/plain": [
       "<body class=\"no-js\">\n",
       "<div class=\"main-wrapper\" role=\"main\">\n",
       "<div class=\"main-content\">\n",
       "<h1 class=\"zone-name-title h1\">\n",
       "<img class=\"heading-favicon\" onerror=\"this.onerror=null;this.parentNode.removeChild(this)\" src=\"/favicon.ico\"/>\n",
       "            stockanalysis.com\n",
       "        </h1>\n",
       "<h2 class=\"h2\" id=\"challenge-running\">\n",
       "            Checking if the site connection is secure\n",
       "        </h2>\n",
       "<noscript>\n",
       "<div id=\"challenge-error-title\">\n",
       "<div class=\"h2\">\n",
       "<span class=\"icon-wrapper\">\n",
       "<div class=\"heading-icon warning-icon\"></div>\n",
       "</span>\n",
       "<span id=\"challenge-error-text\">\n",
       "                        Enable JavaScript and cookies to continue\n",
       "                    </span>\n",
       "</div>\n",
       "</div>\n",
       "</noscript>\n",
       "<div id=\"trk_jschal_js\" style=\"display:none;background-image:url('/cdn-cgi/images/trace/managed/nojs/transparent.gif?ray=77a99d9b4bf65269')\"></div>\n",
       "<div class=\"core-msg spacer\" id=\"challenge-body-text\">\n",
       "            stockanalysis.com needs to review the security of your connection before proceeding.\n",
       "        </div>\n",
       "<form action=\"/stocks/?__cf_chl_f_tk=hOX7oJ0YRTJFlRv4ZP9MaxTthQ4XoPATuCLMJpUYvC8-1671216741-0-gaNycGzNB1E\" enctype=\"application/x-www-form-urlencoded\" id=\"challenge-form\" method=\"POST\">\n",
       "<input name=\"md\" type=\"hidden\" value=\"bKZl.4zr13BF3KI3nu6CqHq6s0_YSXonoCRWbpuPCD8-1671216741-0-AZUZKNqJmEAr1recwE-orktEZ7d59udEoQphk99IfEGB-mlIW4FAFS2Wuiu1kjWDAm2Vt1BhZktj-SKb91AvyolHgjWfaSwYlziTyh5gU_D2xnnptCzGshPTOIicUkgPOLraIh9HUywevjifHJCiu7wb5oZlyfcDoaTaGVp40EEg8D-9Wxd72AqVQeDd6lJ01cJqE5BkTvFV2l3bAR43s7Zs6dzQvGxuMEJyjbvFCyxWJbjTb3S57XjIOb7sdTfUMwvj7_YnrRXrrt1zrdgo1dfLX55OmAv5tjpydW28oWkQjITbfqPAdjJFy7u9SznpYA9wNMgPVe1EJB5djpgE8p02_2LAaMiMyxkAY892o3mBQCXV7lGTryvR3ud7h1aimUNetI5nW4UmIn3h2oCcmf-Zhyl2yxqH6UxQDQUf1_OE-s_iuPXWJSBoJmgjE7_a2SusYC5KaZcGtt3KxUOfw0R20eXSYgv8XjOz68moA2i4FviX0ndn-8_6hSnSwJZmc8OWzFtgE7qk80pi9660A26LPzzlbaDSRpBrzhQf5ius53f9HZkR7gs3LgRFTYnAVOUMM3dkBDTVnJ-AB5pg7f9UaVhQpMlhOwLzMxjaj8eVkLaW0qPQmaqOJjt2CYOOeAJlzeEKg-bkw3vVQQV9Ppc\"/>\n",
       "<input name=\"r\" type=\"hidden\" value=\"yRmnTDF_MoL62MAOWOpnevrX6yuygIg8lE4D4YWdRVs-1671216741-0-AQ4cBpbu3H69geFo1+BIpHc++61XQ5y+PnUunBDDEclPbmwV8I30K0UXwV5YeHwahAdNwtJMa0PIO+KjvMsFePvFDp1415XAorHWH0bORs7Qtu5XZLijjCooX5WT3aTzDAmEfXIWt5Q1cSTZBgp69GKlxbASbHZdWh29q9ejCxcyRaVxDG9RjLY7OU2AwsrIJ98LeeS2lkl9yTtUpjc4KzkUUJhLItZ0NeLRa18Qp3/OnGCCCrqHOy6hKnUPsc2UJGILsXj+vwVErLaoQQsW210iqXdiKu55EByXYGO+OMihSETylkw+urba6cXORWWnUqOny5kOR0acq/BWbW8vo84xB18NlIr3YShGRBDA5OGhidbSDeUK0klImrArA1LOOdlhuZ3JCb4ASbEWLhGTfRyvMrmfHVpXCBGdAzc+AkrnNayKSOcNW+DMZJuMBns1vn+QP9XY9jlxKwk/cQOZwGJqOkRtTK7hjMmaIY2aRvjQ00uAd+MigT7/MYw4RkNXps7pNW7dazxWcaDZpwBl9bAgTQ0xdQWJ8NRn+7IzJMGArMExUjnPdVthnawscMgA63+8Zz8UK2gi9BDO+PyM9Tsd6alzv4c3FQUTWh1RL0tD9C1H7ULZGUy6mbtYzEpI2KLWt4dwpVgnnXRSqom/BjsFnqQN3abwhgtMKlRz4PnO6HRC5cwk/caECySBLtX4sbh7d8XlMwEDReZ1AjF+A+Kxkl+6QAfuswRL8UEJ9fJN9AIB6Rf90UX0A4nLlfJ1YMf+xjLHh/Bax2iTePXyAwqR05+NgwLOry5/I0mRyNx72STz71W9DW1ltxdZlTguRt2eeDpVgEDCshhUN9QLUM9gHBfYeLMDVW6dfKDykdm079akiGD6zSdaM9Z1Qg9uAfLPu4hChRM/YCiXBd9//ByPeJicXe5/RFGt1EqVdtg8Ha207zQgTYRGNXS7PCrXztOlvg5+nM/aOVr4PMv08bRWRD1Prpi5qc9oEX18BafHP9IgqwU0qlUZFahsjWSFJUKwHNC9Qop5yFaZ9vlCPBveRxfyouvYoQDpSao6egAe8Zi0Rey8usCThFojbTb6T/+TjgEgYRH6tG+dZotSJLmzQmPnRvBYe2UFy23spfdfWQx5kKDOFQEfKPLM51zYPxP7IuscfndrombBN1f4+AugLLGAdkheCGhR2Mx46lo1ayYuGI/DIStpRQDe9MBY2jq2MXFWJsiKSQWTbpzylUD7NC9RDXz99I2PbaHEPON4kgjwqGO2BO3Ho9akP7zVqUkQzbp1xUS+gyKgUSPoOrKEMM/44xmTMnOuCr1uTrBQpy1hwjnaLbiRjwPSiZN57+mRi104r8EyEMo9uZO/4r8S9Q1YpxDXSuNVrTqqu7G2vx/mGGJM4kL7+9JbPCVTY9F3UbaJsuqUCetA9j4kI6uKcapxTIMB4OLcW8wx/ZdjCIaWfZEc7XTHXDqRrYqq7VBPjBdyHmIBGuicL79OTToKg2ec2DnHMb2Ar4HOxQZZvm98BL3xFneKzX8jk0KYQaH//jV/xtqNqX2C8J5PtLK9X14vfGCaAP2uGBB6NsUn22Tl5ZEJ4ig4yKIyMXUcc+8ARsBpLuzDWve2v8h2omJvZflN5BpSnWf6dV/rfrz2eUy7gKkKoqCYBFGc8FFPD3Wo/Z3/+ruU3drUy90St4Aju0utU17/cIZ9s87VUeDOIGylKRieWHXFjAi2UZS/5YhxYxwnKi6mLqwef2E5JDARr3pe9XrRqZzziPoqFl0ZH0qkNKLB17YQtKvbkX5uZZ+3kcCDTtOUQrXGUtXcSO4=\"/>\n",
       "</form>\n",
       "</div>\n",
       "</div>\n",
       "<script>\n",
       "    (function(){\n",
       "        window._cf_chl_opt={\n",
       "            cvId: '2',\n",
       "            cType: 'managed',\n",
       "            cNounce: '44715',\n",
       "            cRay: '77a99d9b4bf65269',\n",
       "            cHash: '2d62394edd82048',\n",
       "            cUPMDTk: \"\\/stocks\\/?__cf_chl_tk=hOX7oJ0YRTJFlRv4ZP9MaxTthQ4XoPATuCLMJpUYvC8-1671216741-0-gaNycGzNB1E\",\n",
       "            cFPWv: 'g',\n",
       "            cTTimeMs: '1000',\n",
       "            cTplV: 4,\n",
       "            cTplB: 'cf',\n",
       "            cRq: {\n",
       "                ru: 'aHR0cHM6Ly9zdG9ja2FuYWx5c2lzLmNvbS9zdG9ja3Mv',\n",
       "                ra: 'cHl0aG9uLXJlcXVlc3RzLzIuMjcuMQ==',\n",
       "                rm: 'R0VU',\n",
       "                d: '0vQyP63M5NLb6CJp92UEWr1NhrYHKeLMtEKt4Oe5yLBdYkcYy7tKf0QTIAUNcIyeq+U4jFTF/nqH5QYf8z2VeBh+LljynHf4myphPungqJO2e3fq+huZd+aXOhn5ZsBIRL/OT6NXY6/0JWv9a9GZSCB1S3TblFMYQNkMfZ94FKUcvX63Sx+PJ2LLrdeXujMK+hjFwzSglheBYwTleHcWSwYPcak3P00S6QQ3crUS0wf7kSbH4zMga2Yr96BDBXB4TQEenDAw84EKO8LQRUW6Pl4T6lrcmWb0CAyQo2/JMxrvkQyfIe6ml82RMdsiYKpz2F7oOFACyMvFCVwz6HAth0CNS1S27gePqWDyhaXDOowwQfQz7gZ77ofzqX2qri4yHA1wzBFvxaUbA7dadD/4rOdisfitRfOSsdllbMeGUgn9m5Xn4JSG8KxBu89424UKgm2U5FkHj+QS4M4CylSWwaxK6hLi/nv9z095OMh7R48a9yKKonqCBV1j8BhbVjmQtIyla0BFxk/O59BNqaSIJpObyAXFlQT/4ntoy4Ae1eD6GSokJ8zxeeNzZLREpHwy/Fv/SpPcirc1FCz2jcY2DizfsW5WNvQigevZujCp/9BEuHr53hfiN4nzTTfnzeLb92ATAI/nvxixvJQ3xysIlw==',\n",
       "                t: 'MTY3MTIxNjc0MS42NjUwMDA=',\n",
       "                m: '+5xprv9Yi/3vzWSm/ussN1RO78W7vnr42gxjSxfFqGM=',\n",
       "                i1: 'XCGzxAlfprjqoQDze41rDg==',\n",
       "                i2: 'VHJ3FQBicsPDRhkBwaUn4g==',\n",
       "                zh: 'xAdFrq3gXjvlS1QmjmxskcY9NWrxT6x2ZpWhcRkeyEk=',\n",
       "                uh: 'JNy/u1JaDY8l68+s834y37Qd6UIzTJLBzCkJPX4t/ps=',\n",
       "                hh: 'hxDJ59vYlbjztT0fKuj2IQR6VOpme5l0wz7b0xa4sMw=',\n",
       "            }\n",
       "        };\n",
       "        var trkjs = document.createElement('img');\n",
       "        trkjs.setAttribute('src', '/cdn-cgi/images/trace/managed/js/transparent.gif?ray=77a99d9b4bf65269');\n",
       "        trkjs.setAttribute('style', 'display: none');\n",
       "        document.body.appendChild(trkjs);\n",
       "        var cpo = document.createElement('script');\n",
       "        cpo.src = '/cdn-cgi/challenge-platform/h/g/orchestrate/managed/v1?ray=77a99d9b4bf65269';\n",
       "        window._cf_chl_opt.cOgUHash = location.hash === '' && location.href.indexOf('#') !== -1 ? '#' : location.hash;\n",
       "        window._cf_chl_opt.cOgUQuery = location.search === '' && location.href.slice(0, -window._cf_chl_opt.cOgUHash.length).indexOf('?') !== -1 ? '?' : location.search;\n",
       "        if (window.history && window.history.replaceState) {\n",
       "            var ogU = location.pathname + window._cf_chl_opt.cOgUQuery + window._cf_chl_opt.cOgUHash;\n",
       "            history.replaceState(null, null, \"\\/stocks\\/?__cf_chl_rt_tk=hOX7oJ0YRTJFlRv4ZP9MaxTthQ4XoPATuCLMJpUYvC8-1671216741-0-gaNycGzNB1E\" + window._cf_chl_opt.cOgUHash);\n",
       "            cpo.onload = function() {\n",
       "                history.replaceState(null, null, ogU);\n",
       "            };\n",
       "        }\n",
       "        document.getElementsByTagName('head')[0].appendChild(cpo);\n",
       "    }());\n",
       "</script>\n",
       "<div class=\"footer\" role=\"contentinfo\">\n",
       "<div class=\"footer-inner\">\n",
       "<div class=\"clearfix diagnostic-wrapper\">\n",
       "<div class=\"ray-id\">Ray ID: <code>77a99d9b4bf65269</code></div>\n",
       "</div>\n",
       "<div class=\"text-center\">Performance &amp; security by <a href=\"https://www.cloudflare.com?utm_source=challenge&amp;utm_campaign=m\" rel=\"noopener noreferrer\" target=\"_blank\">Cloudflare</a></div>\n",
       "</div>\n",
       "</div>\n",
       "</body>"
      ]
     },
     "execution_count": 34,
     "metadata": {},
     "output_type": "execute_result"
    }
   ],
   "source": [
    "bodies"
   ]
  },
  {
   "cell_type": "code",
   "execution_count": null,
   "metadata": {},
   "outputs": [],
   "source": []
  }
 ],
 "metadata": {
  "kernelspec": {
   "display_name": "PythonDataOne",
   "language": "python",
   "name": "python3"
  },
  "language_info": {
   "codemirror_mode": {
    "name": "ipython",
    "version": 3
   },
   "file_extension": ".py",
   "mimetype": "text/x-python",
   "name": "python",
   "nbconvert_exporter": "python",
   "pygments_lexer": "ipython3",
   "version": "3.7.7"
  },
  "orig_nbformat": 4,
  "vscode": {
   "interpreter": {
    "hash": "a4713273e48c2404d643ad28ff8d97da51393375f792df91ec5629abd65e2c62"
   }
  }
 },
 "nbformat": 4,
 "nbformat_minor": 2
}
